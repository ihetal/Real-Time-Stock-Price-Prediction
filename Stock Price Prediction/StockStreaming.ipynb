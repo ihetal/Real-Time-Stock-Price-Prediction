{
 "cells": [
  {
   "cell_type": "code",
   "execution_count": null,
   "metadata": {},
   "outputs": [],
   "source": [
    "URL= 'https://finance.yahoo.com/quote/IBM/'\n",
    "headers={\"User-Agent\":\"Mozilla/5.0 (X11; Linux x86_64; rv:60.0) Gecko/20100101 Firefox/60.0\",\"Accept\":\"text/html,application/xhtml+xml,application/xml;q=0.9,*/*;q=0.8\"}"
   ]
  },
  {
   "cell_type": "code",
   "execution_count": null,
   "metadata": {},
   "outputs": [],
   "source": [
    "import requests\n",
    "from datetime import datetime\n",
    "from bs4 import BeautifulSoup\n",
    "from urllib.request import Request, urlopen\n",
    "import pandas as pd"
   ]
  },
  {
   "cell_type": "code",
   "execution_count": null,
   "metadata": {},
   "outputs": [],
   "source": [
    "session=requests.session()\n",
    "response=session.get(URL,headers=headers)\n",
    "soup=BeautifulSoup(response.text,\"html.parser\")\n",
    "divs = soup.findAll(\"div\",{\"class\":\"D(ib) Mend(20px)\"})\n",
    "tds = soup.findAll(\"td\",{\"data-test\":\"TD_VOLUME-value\"})\n",
    "\n",
    "\n",
    "for td in tds:\n",
    "    print(td.find('span').text)\n",
    "\n",
    "\n",
    "for div in divs:\n",
    "    print(div.find('span').text)"
   ]
  },
  {
   "cell_type": "code",
   "execution_count": null,
   "metadata": {},
   "outputs": [],
   "source": [
    "import pandas as pd\n",
    "IBMTest = pd.read_csv('./test/IBMTest.csv')\n",
    "SentimentTest =pd.read_csv('./test/sentiments.csv')\n",
    "SentimentTest = SentimentTest.loc[:, ['DateTime','Polarity']].groupby(['DateTime']).mean().reset_index()\n",
    "SentimentTest['DateTime'] = pd.to_datetime(SentimentTest['DateTime'])\n",
    "IBMTest['DateTime'] = pd.to_datetime(IBMTest['Date'].apply(str)+' '+IBMTest['Time'])\n",
    "IBMTest.drop(columns=['Date','Time'],inplace = True)\n",
    "IBMTest = IBMTest.set_index('DateTime')\\\n",
    "          .between_time('09:00:00', '16:00:00')\\\n",
    "          .reset_index()\n",
    "print(len(IBMTest))"
   ]
  },
  {
   "cell_type": "code",
   "execution_count": null,
   "metadata": {},
   "outputs": [],
   "source": [
    "import time\n",
    "import socket\n",
    "TCP_IP = '127.0.0.1'\n",
    "TCP_PORT = 5000\n",
    "\n",
    "\n",
    "s = socket.socket(socket.AF_INET, socket.SOCK_STREAM)\n",
    "s.setsockopt(socket.SOL_SOCKET, socket.SO_REUSEADDR, 1)\n",
    "s.bind((TCP_IP, TCP_PORT))\n",
    "print(\"Awaiting Connection\")\n",
    "\n",
    "s.listen(1)\n",
    "print(\"Server started at port 5000.\")\n",
    "while True:\n",
    "    conn, addr = s.accept()\n",
    "    print(\"Connected to: \", addr)\n",
    "    for i in range(0,len(IBMTest)):\n",
    "        IBMTest1 = IBMTest[i:i+1]\n",
    "        Stocks_Data =pd.merge_asof(IBMTest1, SentimentTest.sort_values('DateTime'),\n",
    "                      on='DateTime',\n",
    "                      tolerance=pd.Timedelta('7m'))\n",
    "        Stocks_Data.drop(columns=['High','Low','Close'],inplace=True)\n",
    "        Stocks_Data.fillna(0,inplace=True)\n",
    "        Stocks_Data['DateTime']= Stocks_Data['DateTime'].dt.strftime('%Y-%m-%d %H:%M:%S')\n",
    "        Stocks_Data.reset_index(drop=True, inplace=True)\n",
    "        print(Stocks_Data.reset_index().to_json(orient='records'))\n",
    "        conn.send((Stocks_Data.to_json(orient='records')+'\\n').encode())\n",
    "        time.sleep(30)\n",
    "    time.sleep(10)\n",
    "    conn.close()"
   ]
  },
  {
   "cell_type": "code",
   "execution_count": null,
   "metadata": {},
   "outputs": [],
   "source": []
  }
 ],
 "metadata": {
  "kernelspec": {
   "display_name": "Python 3",
   "language": "python",
   "name": "python3"
  },
  "language_info": {
   "codemirror_mode": {
    "name": "ipython",
    "version": 3
   },
   "file_extension": ".py",
   "mimetype": "text/x-python",
   "name": "python",
   "nbconvert_exporter": "python",
   "pygments_lexer": "ipython3",
   "version": "3.7.3"
  }
 },
 "nbformat": 4,
 "nbformat_minor": 2
}
